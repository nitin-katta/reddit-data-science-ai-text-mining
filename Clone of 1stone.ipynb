{
 "cells":[
  {
   "cell_type":"code",
   "source":[
    "import praw\n",
    "import pandas as pd\n",
    "import time"
   ],
   "execution_count":3,
   "outputs":[
    
   ],
   "metadata":{
    "datalore":{
     "node_id":"fQPCkEHiQjnB99NPS2qzfi",
     "type":"CODE",
     "hide_input_from_viewers":true,
     "hide_output_from_viewers":true
    }
   }
  },
  {
   "cell_type":"code",
   "source":[
    "reddit = praw.Reddit(client_id='your_client_id', \n",
    "                    client_secret='your_client_secret', \n",
    "                    redirect_uri=\"http:\/\/localhost:8080\", \n",
    "                    user_agent='your_user_agent',\n",
    "                     username = 'your_reddit_account',\n",
    "                     password = 'your_reddit_password')"
   ],
   "execution_count":4,
   "outputs":[
    
   ],
   "metadata":{
    "datalore":{
     "node_id":"JTE5YX46LqwqibS3V5Ee8D",
     "type":"CODE",
     "hide_input_from_viewers":true,
     "hide_output_from_viewers":true
    }
   }
  },
  {
   "cell_type":"code",
   "source":[
    "def get_top_posts(subreddit_list='MachineLearning', limit=1000, time_filter='all'):\n",
    "\n",
    "    # Create a read-only Reddit instance\n",
    "    reddit = praw.Reddit(client_id='your_client_id', \n",
    "                        client_secret='your_client_secret', \n",
    "                        redirect_uri=\"http:\/\/localhost:8080\", \n",
    "                        user_agent='your_user_agent')\n",
    "    \n",
    "    posts = reddit.subreddit(subreddit_list).top(time_filter=time_filter, limit=limit)\n",
    "\n",
    "    # Initialize post dataframe\n",
    "    posts_df = []\n",
    "\n",
    "    for post in posts:\n",
    "        posts_df.append({'post_id': post.id,\n",
    "                        'subreddit': post.subreddit,\n",
    "                        'created_utc': post.created_utc,\n",
    "                        'selftext': post.selftext,\n",
    "                        'post_url': post.url,\n",
    "                        'post_title': post.title,\n",
    "                        'link_flair_text': post.link_flair_text,\n",
    "                        'score': post.score,\n",
    "                        'num_comments': post.num_comments,\n",
    "                        'upvote_ratio': post.upvote_ratio\n",
    "                        })\n",
    "        \n",
    "    return pd.DataFrame(posts_df)\n",
    "\n",
    "posts_df = get_top_posts(subreddit_list='MachineLearning+artificial+datascience', limit=3000, time_filter='all')\n",
    "posts_df.to_csv('DS_ML_AI_posts.csv', header=True, index=False)\n",
    "posts_df"
   ],
   "execution_count":5,
   "outputs":[
    
   ],
   "metadata":{
    "datalore":{
     "node_id":"qZ1h1I9BzFdB5yNvXqYn7P",
     "type":"CODE",
     "hide_input_from_viewers":true,
     "hide_output_from_viewers":true
    }
   }
  },
  {
   "cell_type":"code",
   "source":[
    "comments_list = []\n",
    "\n",
    "for post_id in posts_df['post_id']:\n",
    "    submission = reddit.submission(post_id)\n",
    "\n",
    "    submission.comments.replace_more(limit=100)\n",
    "    for comment in submission.comments.list():\n",
    "        comments_list.append({'post_id': post_id, 'comment': comment.body})\n",
    "    \n",
    "# creating a dataframe\n",
    "comments_df = pd.DataFrame(comments_list)\n",
    "comments_df.to_csv('DS_ML_AI_comments1.csv', header=True, index=False)\n",
    "comments_df"
   ],
   "execution_count":6,
   "outputs":[
    
   ],
   "metadata":{
    "datalore":{
     "node_id":"rFBBBkpmjGGhhzK09F6diy",
     "type":"CODE",
     "hide_input_from_viewers":true,
     "hide_output_from_viewers":true
    }
   }
  },
  {
   "cell_type":"code",
   "source":[
    
   ],
   "execution_count":null,
   "outputs":[
    
   ],
   "metadata":{
    "datalore":{
     "node_id":"y2gaUdcy7jpvQmhhyEVwu1",
     "type":"CODE",
     "hide_input_from_viewers":true,
     "hide_output_from_viewers":true
    }
   }
  }
 ],
 "metadata":{
  "kernelspec":{
   "display_name":"Python",
   "language":"python",
   "name":"python"
  },
  "datalore":{
   "computation_mode":"JUPYTER",
   "package_manager":"pip",
   "base_environment":"default",
   "packages":[
    {
     "name":"praw",
     "version":"7.7.1",
     "source":"PIP"
    },
    {
     "name":"reddit",
     "source":"PIP"
    }
   ],
   "report_row_ids":[
    
   ],
   "version":3
  }
 },
 "nbformat":4,
 "nbformat_minor":4
}